{
 "cells": [
  {
   "cell_type": "code",
   "execution_count": 1,
   "metadata": {},
   "outputs": [],
   "source": [
    "import numpy as np\n",
    "import pandas as pd\n",
    "from sklearn.linear_model import LinearRegression"
   ]
  },
  {
   "cell_type": "code",
   "execution_count": 50,
   "metadata": {},
   "outputs": [],
   "source": [
    "# Создаём выборку\n",
    "n = 500\n",
    "time = np.random.choice(60, n) + 20 # время в млсек\n",
    "distance = np.random.choice(30, n) + 1 # расстояние в метрах\n",
    "driving_experience = np.random.choice(50, n)  # стаж водителя в годах\n",
    "# стоимость проезда по платной дороге в рублях (чем ниже средняя скорость, тем меньший износ дороге)\n",
    "fee = (distance/1000)/(time/60/60/60) * 5 "
   ]
  },
  {
   "cell_type": "code",
   "execution_count": 51,
   "metadata": {},
   "outputs": [
    {
     "data": {
      "text/html": [
       "<div>\n",
       "<style scoped>\n",
       "    .dataframe tbody tr th:only-of-type {\n",
       "        vertical-align: middle;\n",
       "    }\n",
       "\n",
       "    .dataframe tbody tr th {\n",
       "        vertical-align: top;\n",
       "    }\n",
       "\n",
       "    .dataframe thead th {\n",
       "        text-align: right;\n",
       "    }\n",
       "</style>\n",
       "<table border=\"1\" class=\"dataframe\">\n",
       "  <thead>\n",
       "    <tr style=\"text-align: right;\">\n",
       "      <th></th>\n",
       "      <th>time</th>\n",
       "      <th>distance</th>\n",
       "      <th>driving_experience</th>\n",
       "      <th>fee</th>\n",
       "    </tr>\n",
       "  </thead>\n",
       "  <tbody>\n",
       "    <tr>\n",
       "      <td>0</td>\n",
       "      <td>30</td>\n",
       "      <td>28</td>\n",
       "      <td>33</td>\n",
       "      <td>1008.000000</td>\n",
       "    </tr>\n",
       "    <tr>\n",
       "      <td>1</td>\n",
       "      <td>52</td>\n",
       "      <td>15</td>\n",
       "      <td>41</td>\n",
       "      <td>311.538462</td>\n",
       "    </tr>\n",
       "    <tr>\n",
       "      <td>2</td>\n",
       "      <td>47</td>\n",
       "      <td>20</td>\n",
       "      <td>7</td>\n",
       "      <td>459.574468</td>\n",
       "    </tr>\n",
       "    <tr>\n",
       "      <td>3</td>\n",
       "      <td>49</td>\n",
       "      <td>12</td>\n",
       "      <td>12</td>\n",
       "      <td>264.489796</td>\n",
       "    </tr>\n",
       "    <tr>\n",
       "      <td>4</td>\n",
       "      <td>47</td>\n",
       "      <td>9</td>\n",
       "      <td>12</td>\n",
       "      <td>206.808511</td>\n",
       "    </tr>\n",
       "  </tbody>\n",
       "</table>\n",
       "</div>"
      ],
      "text/plain": [
       "   time  distance  driving_experience          fee\n",
       "0    30        28                  33  1008.000000\n",
       "1    52        15                  41   311.538462\n",
       "2    47        20                   7   459.574468\n",
       "3    49        12                  12   264.489796\n",
       "4    47         9                  12   206.808511"
      ]
     },
     "execution_count": 51,
     "metadata": {},
     "output_type": "execute_result"
    }
   ],
   "source": [
    "df = pd.DataFrame({'time': time, 'distance': distance, 'driving_experience': driving_experience, 'fee': fee})\n",
    "df.head()"
   ]
  },
  {
   "cell_type": "code",
   "execution_count": 54,
   "metadata": {},
   "outputs": [
    {
     "name": "stdout",
     "output_type": "stream",
     "text": [
      "weights: [-8.66612262 24.2470745  -0.44280032]\n",
      "Bias: 450.4452889786397\n",
      "Error: 71.03684516421136\n"
     ]
    }
   ],
   "source": [
    "from sklearn.metrics import mean_absolute_error\n",
    "x = df[['time', 'distance', 'driving_experience']]\n",
    "y = df.fee\n",
    "relation = LinearRegression().fit(x, y)\n",
    "print('weights: {}'.format(relation.coef_))\n",
    "print('Bias: {}'.format(relation.intercept_))\n",
    "\n",
    "pred_values = relation.predict(df[['time', 'distance', 'driving_experience']])\n",
    "print('Error: {}'.format(mean_absolute_error(pred_values, y)))"
   ]
  },
  {
   "cell_type": "code",
   "execution_count": 56,
   "metadata": {},
   "outputs": [
    {
     "name": "stdout",
     "output_type": "stream",
     "text": [
      "weights: [-8.6650857  24.27197818]\n",
      "Bias: 439.0396463808338\n",
      "Error: 71.20760174653952\n"
     ]
    }
   ],
   "source": [
    "x = df[['time', 'distance']]\n",
    "y = df.fee\n",
    "relation = LinearRegression().fit(x, y)\n",
    "print('weights: {}'.format(relation.coef_))\n",
    "print('Bias: {}'.format(relation.intercept_))\n",
    "\n",
    "pred_values = relation.predict(df[['time', 'distance']])\n",
    "print('Error: {}'.format(mean_absolute_error(pred_values, y)))"
   ]
  },
  {
   "cell_type": "code",
   "execution_count": 65,
   "metadata": {},
   "outputs": [],
   "source": [
    "df['velocity'] = (df['distance']/1000) / (df['time']/60/60/60)"
   ]
  },
  {
   "cell_type": "code",
   "execution_count": 66,
   "metadata": {},
   "outputs": [
    {
     "data": {
      "text/html": [
       "<div>\n",
       "<style scoped>\n",
       "    .dataframe tbody tr th:only-of-type {\n",
       "        vertical-align: middle;\n",
       "    }\n",
       "\n",
       "    .dataframe tbody tr th {\n",
       "        vertical-align: top;\n",
       "    }\n",
       "\n",
       "    .dataframe thead th {\n",
       "        text-align: right;\n",
       "    }\n",
       "</style>\n",
       "<table border=\"1\" class=\"dataframe\">\n",
       "  <thead>\n",
       "    <tr style=\"text-align: right;\">\n",
       "      <th></th>\n",
       "      <th>time</th>\n",
       "      <th>distance</th>\n",
       "      <th>driving_experience</th>\n",
       "      <th>fee</th>\n",
       "      <th>velocity</th>\n",
       "    </tr>\n",
       "  </thead>\n",
       "  <tbody>\n",
       "    <tr>\n",
       "      <td>0</td>\n",
       "      <td>30</td>\n",
       "      <td>28</td>\n",
       "      <td>33</td>\n",
       "      <td>1008.000000</td>\n",
       "      <td>201.600000</td>\n",
       "    </tr>\n",
       "    <tr>\n",
       "      <td>1</td>\n",
       "      <td>52</td>\n",
       "      <td>15</td>\n",
       "      <td>41</td>\n",
       "      <td>311.538462</td>\n",
       "      <td>62.307692</td>\n",
       "    </tr>\n",
       "    <tr>\n",
       "      <td>2</td>\n",
       "      <td>47</td>\n",
       "      <td>20</td>\n",
       "      <td>7</td>\n",
       "      <td>459.574468</td>\n",
       "      <td>91.914894</td>\n",
       "    </tr>\n",
       "    <tr>\n",
       "      <td>3</td>\n",
       "      <td>49</td>\n",
       "      <td>12</td>\n",
       "      <td>12</td>\n",
       "      <td>264.489796</td>\n",
       "      <td>52.897959</td>\n",
       "    </tr>\n",
       "    <tr>\n",
       "      <td>4</td>\n",
       "      <td>47</td>\n",
       "      <td>9</td>\n",
       "      <td>12</td>\n",
       "      <td>206.808511</td>\n",
       "      <td>41.361702</td>\n",
       "    </tr>\n",
       "  </tbody>\n",
       "</table>\n",
       "</div>"
      ],
      "text/plain": [
       "   time  distance  driving_experience          fee    velocity\n",
       "0    30        28                  33  1008.000000  201.600000\n",
       "1    52        15                  41   311.538462   62.307692\n",
       "2    47        20                   7   459.574468   91.914894\n",
       "3    49        12                  12   264.489796   52.897959\n",
       "4    47         9                  12   206.808511   41.361702"
      ]
     },
     "execution_count": 66,
     "metadata": {},
     "output_type": "execute_result"
    }
   ],
   "source": [
    "df.head()"
   ]
  },
  {
   "cell_type": "code",
   "execution_count": 67,
   "metadata": {},
   "outputs": [
    {
     "name": "stdout",
     "output_type": "stream",
     "text": [
      "weights: [5.]\n",
      "Bias: -1.1368683772161603e-13\n",
      "Error: 5.496048061104375e-14\n"
     ]
    }
   ],
   "source": [
    "x = df[['velocity']]\n",
    "y = df.fee\n",
    "relation = LinearRegression().fit(x, y)\n",
    "print('weights: {}'.format(relation.coef_))\n",
    "print('Bias: {}'.format(relation.intercept_))\n",
    "\n",
    "pred_values = relation.predict(df[['velocity']])\n",
    "print('Error: {}'.format(mean_absolute_error(pred_values, y)))"
   ]
  },
  {
   "cell_type": "code",
   "execution_count": null,
   "metadata": {},
   "outputs": [],
   "source": []
  }
 ],
 "metadata": {
  "kernelspec": {
   "display_name": "Python 3",
   "language": "python",
   "name": "python3"
  },
  "language_info": {
   "codemirror_mode": {
    "name": "ipython",
    "version": 3
   },
   "file_extension": ".py",
   "mimetype": "text/x-python",
   "name": "python",
   "nbconvert_exporter": "python",
   "pygments_lexer": "ipython3",
   "version": "3.7.4"
  }
 },
 "nbformat": 4,
 "nbformat_minor": 2
}
